{
 "cells": [
  {
   "cell_type": "code",
   "execution_count": 1,
   "id": "484a2f6c-c4a6-4402-9cca-b1aed18d0450",
   "metadata": {},
   "outputs": [
    {
     "data": {
      "text/html": [
       "<div>\n",
       "<style scoped>\n",
       "    .dataframe tbody tr th:only-of-type {\n",
       "        vertical-align: middle;\n",
       "    }\n",
       "\n",
       "    .dataframe tbody tr th {\n",
       "        vertical-align: top;\n",
       "    }\n",
       "\n",
       "    .dataframe thead th {\n",
       "        text-align: right;\n",
       "    }\n",
       "</style>\n",
       "<table border=\"1\" class=\"dataframe\">\n",
       "  <thead>\n",
       "    <tr style=\"text-align: right;\">\n",
       "      <th></th>\n",
       "      <th>2018-12-01 11:40:29 UTC</th>\n",
       "      <th>1924719191579951782</th>\n",
       "      <th>1842195256808833386</th>\n",
       "      <th>1</th>\n",
       "      <th>1806829201890738522</th>\n",
       "      <th>jewelry.earring</th>\n",
       "      <th>0</th>\n",
       "      <th>561.51</th>\n",
       "      <th>1515915625207851155</th>\n",
       "      <th>Unnamed: 9</th>\n",
       "      <th>red</th>\n",
       "      <th>gold</th>\n",
       "      <th>diamond</th>\n",
       "    </tr>\n",
       "  </thead>\n",
       "  <tbody>\n",
       "    <tr>\n",
       "      <th>0</th>\n",
       "      <td>2018-12-01 17:38:31 UTC</td>\n",
       "      <td>1924899396621697920</td>\n",
       "      <td>1806829193678291446</td>\n",
       "      <td>1</td>\n",
       "      <td>1.806829e+18</td>\n",
       "      <td>NaN</td>\n",
       "      <td>NaN</td>\n",
       "      <td>212.14</td>\n",
       "      <td>1.515916e+18</td>\n",
       "      <td>NaN</td>\n",
       "      <td>yellow</td>\n",
       "      <td>gold</td>\n",
       "      <td>NaN</td>\n",
       "    </tr>\n",
       "    <tr>\n",
       "      <th>1</th>\n",
       "      <td>2018-12-02 13:53:42 UTC</td>\n",
       "      <td>1925511016616034733</td>\n",
       "      <td>1842214461889315556</td>\n",
       "      <td>1</td>\n",
       "      <td>1.806829e+18</td>\n",
       "      <td>jewelry.pendant</td>\n",
       "      <td>1.0</td>\n",
       "      <td>54.66</td>\n",
       "      <td>1.515916e+18</td>\n",
       "      <td>f</td>\n",
       "      <td>white</td>\n",
       "      <td>gold</td>\n",
       "      <td>sapphire</td>\n",
       "    </tr>\n",
       "    <tr>\n",
       "      <th>2</th>\n",
       "      <td>2018-12-02 17:44:02 UTC</td>\n",
       "      <td>1925626951238681511</td>\n",
       "      <td>1835566849434059453</td>\n",
       "      <td>1</td>\n",
       "      <td>1.806829e+18</td>\n",
       "      <td>jewelry.pendant</td>\n",
       "      <td>0.0</td>\n",
       "      <td>88.90</td>\n",
       "      <td>1.515916e+18</td>\n",
       "      <td>f</td>\n",
       "      <td>red</td>\n",
       "      <td>gold</td>\n",
       "      <td>diamond</td>\n",
       "    </tr>\n",
       "    <tr>\n",
       "      <th>3</th>\n",
       "      <td>2018-12-02 21:30:19 UTC</td>\n",
       "      <td>1925740842841014667</td>\n",
       "      <td>1873936840742928865</td>\n",
       "      <td>1</td>\n",
       "      <td>1.806829e+18</td>\n",
       "      <td>jewelry.necklace</td>\n",
       "      <td>0.0</td>\n",
       "      <td>417.67</td>\n",
       "      <td>1.515916e+18</td>\n",
       "      <td>NaN</td>\n",
       "      <td>red</td>\n",
       "      <td>gold</td>\n",
       "      <td>amethyst</td>\n",
       "    </tr>\n",
       "    <tr>\n",
       "      <th>4</th>\n",
       "      <td>2018-12-02 22:09:34 UTC</td>\n",
       "      <td>1925760595336888995</td>\n",
       "      <td>1835566854827934449</td>\n",
       "      <td>1</td>\n",
       "      <td>1.806829e+18</td>\n",
       "      <td>jewelry.earring</td>\n",
       "      <td>1.0</td>\n",
       "      <td>102.27</td>\n",
       "      <td>1.515916e+18</td>\n",
       "      <td>NaN</td>\n",
       "      <td>red</td>\n",
       "      <td>gold</td>\n",
       "      <td>NaN</td>\n",
       "    </tr>\n",
       "  </tbody>\n",
       "</table>\n",
       "</div>"
      ],
      "text/plain": [
       "   2018-12-01 11:40:29 UTC  1924719191579951782  1842195256808833386  1  \\\n",
       "0  2018-12-01 17:38:31 UTC  1924899396621697920  1806829193678291446  1   \n",
       "1  2018-12-02 13:53:42 UTC  1925511016616034733  1842214461889315556  1   \n",
       "2  2018-12-02 17:44:02 UTC  1925626951238681511  1835566849434059453  1   \n",
       "3  2018-12-02 21:30:19 UTC  1925740842841014667  1873936840742928865  1   \n",
       "4  2018-12-02 22:09:34 UTC  1925760595336888995  1835566854827934449  1   \n",
       "\n",
       "   1806829201890738522   jewelry.earring    0  561.51  1515915625207851155  \\\n",
       "0         1.806829e+18               NaN  NaN  212.14         1.515916e+18   \n",
       "1         1.806829e+18   jewelry.pendant  1.0   54.66         1.515916e+18   \n",
       "2         1.806829e+18   jewelry.pendant  0.0   88.90         1.515916e+18   \n",
       "3         1.806829e+18  jewelry.necklace  0.0  417.67         1.515916e+18   \n",
       "4         1.806829e+18   jewelry.earring  1.0  102.27         1.515916e+18   \n",
       "\n",
       "  Unnamed: 9     red  gold   diamond  \n",
       "0        NaN  yellow  gold       NaN  \n",
       "1          f   white  gold  sapphire  \n",
       "2          f     red  gold   diamond  \n",
       "3        NaN     red  gold  amethyst  \n",
       "4        NaN     red  gold       NaN  "
      ]
     },
     "execution_count": 1,
     "metadata": {},
     "output_type": "execute_result"
    }
   ],
   "source": [
    "import pandas as pd\n",
    "\n",
    "# File path\n",
    "file_path = r'C:\\Users\\LENOVO\\Downloads\\intern 2222\\jewelry.csv'\n",
    "\n",
    "# Load the dataset\n",
    "df = pd.read_csv(file_path)\n",
    "\n",
    "# Display the first few rows\n",
    "df.head()\n"
   ]
  },
  {
   "cell_type": "code",
   "execution_count": 2,
   "id": "5fff69ff-40fc-4c8c-84df-1550bee478b5",
   "metadata": {},
   "outputs": [
    {
     "data": {
      "text/html": [
       "<div>\n",
       "<style scoped>\n",
       "    .dataframe tbody tr th:only-of-type {\n",
       "        vertical-align: middle;\n",
       "    }\n",
       "\n",
       "    .dataframe tbody tr th {\n",
       "        vertical-align: top;\n",
       "    }\n",
       "\n",
       "    .dataframe thead th {\n",
       "        text-align: right;\n",
       "    }\n",
       "</style>\n",
       "<table border=\"1\" class=\"dataframe\">\n",
       "  <thead>\n",
       "    <tr style=\"text-align: right;\">\n",
       "      <th></th>\n",
       "      <th>Datetime</th>\n",
       "      <th>OrderID</th>\n",
       "      <th>ProductID</th>\n",
       "      <th>Quantity</th>\n",
       "      <th>CategoryID</th>\n",
       "      <th>CategoryCode</th>\n",
       "      <th>BrandID</th>\n",
       "      <th>USDPrice</th>\n",
       "      <th>UserID</th>\n",
       "      <th>Gender</th>\n",
       "      <th>Color</th>\n",
       "      <th>Metal</th>\n",
       "      <th>Gem</th>\n",
       "    </tr>\n",
       "  </thead>\n",
       "  <tbody>\n",
       "    <tr>\n",
       "      <th>0</th>\n",
       "      <td>2018-12-01 11:40:29 UTC</td>\n",
       "      <td>1924719191579951782</td>\n",
       "      <td>1842195256808833386</td>\n",
       "      <td>1</td>\n",
       "      <td>1.806829e+18</td>\n",
       "      <td>jewelry.earring</td>\n",
       "      <td>0.0</td>\n",
       "      <td>561.51</td>\n",
       "      <td>1.515916e+18</td>\n",
       "      <td>NaN</td>\n",
       "      <td>red</td>\n",
       "      <td>gold</td>\n",
       "      <td>diamond</td>\n",
       "    </tr>\n",
       "    <tr>\n",
       "      <th>1</th>\n",
       "      <td>2018-12-01 17:38:31 UTC</td>\n",
       "      <td>1924899396621697920</td>\n",
       "      <td>1806829193678291446</td>\n",
       "      <td>1</td>\n",
       "      <td>1.806829e+18</td>\n",
       "      <td>NaN</td>\n",
       "      <td>NaN</td>\n",
       "      <td>212.14</td>\n",
       "      <td>1.515916e+18</td>\n",
       "      <td>NaN</td>\n",
       "      <td>yellow</td>\n",
       "      <td>gold</td>\n",
       "      <td>NaN</td>\n",
       "    </tr>\n",
       "  </tbody>\n",
       "</table>\n",
       "</div>"
      ],
      "text/plain": [
       "                  Datetime              OrderID            ProductID  \\\n",
       "0  2018-12-01 11:40:29 UTC  1924719191579951782  1842195256808833386   \n",
       "1  2018-12-01 17:38:31 UTC  1924899396621697920  1806829193678291446   \n",
       "\n",
       "   Quantity    CategoryID     CategoryCode  BrandID  USDPrice        UserID  \\\n",
       "0         1  1.806829e+18  jewelry.earring      0.0    561.51  1.515916e+18   \n",
       "1         1  1.806829e+18              NaN      NaN    212.14  1.515916e+18   \n",
       "\n",
       "  Gender   Color Metal      Gem  \n",
       "0    NaN     red  gold  diamond  \n",
       "1    NaN  yellow  gold      NaN  "
      ]
     },
     "execution_count": 2,
     "metadata": {},
     "output_type": "execute_result"
    }
   ],
   "source": [
    "import pandas as pd\n",
    "import warnings\n",
    "warnings.filterwarnings(\"ignore\")\n",
    "\n",
    "# Define column names\n",
    "df_cols = ['Datetime', 'OrderID', 'ProductID', 'Quantity', 'CategoryID', \n",
    "           'CategoryCode', 'BrandID', 'USDPrice', 'UserID', 'Gender', \n",
    "           'Color', 'Metal', 'Gem']\n",
    "\n",
    "# Update the file path\n",
    "file_path = r'C:\\Users\\LENOVO\\Downloads\\intern 2222\\jewelry.csv'\n",
    "\n",
    "# Load the dataset\n",
    "df = pd.read_csv(file_path, names=df_cols)\n",
    "\n",
    "# Display the first two rows\n",
    "df.head(2)\n"
   ]
  },
  {
   "cell_type": "code",
   "execution_count": 3,
   "id": "80dd9cb7-6453-4946-8470-b27df2555bab",
   "metadata": {},
   "outputs": [
    {
     "name": "stdout",
     "output_type": "stream",
     "text": [
      "<class 'pandas.core.frame.DataFrame'>\n",
      "RangeIndex: 95911 entries, 0 to 95910\n",
      "Data columns (total 13 columns):\n",
      " #   Column        Non-Null Count  Dtype  \n",
      "---  ------        --------------  -----  \n",
      " 0   Datetime      95911 non-null  object \n",
      " 1   OrderID       95911 non-null  int64  \n",
      " 2   ProductID     95911 non-null  int64  \n",
      " 3   Quantity      95911 non-null  int64  \n",
      " 4   CategoryID    90559 non-null  float64\n",
      " 5   CategoryCode  85978 non-null  object \n",
      " 6   BrandID       91126 non-null  float64\n",
      " 7   USDPrice      90559 non-null  float64\n",
      " 8   UserID        90559 non-null  float64\n",
      " 9   Gender        47743 non-null  object \n",
      " 10  Color         88251 non-null  object \n",
      " 11  Metal         90449 non-null  object \n",
      " 12  Gem           61853 non-null  object \n",
      "dtypes: float64(4), int64(3), object(6)\n",
      "memory usage: 9.5+ MB\n"
     ]
    }
   ],
   "source": [
    "df.info()"
   ]
  },
  {
   "cell_type": "code",
   "execution_count": 4,
   "id": "c8a3aa6a-9604-4d17-8570-8246038e39ca",
   "metadata": {},
   "outputs": [
    {
     "data": {
      "text/plain": [
       "Datetime            0\n",
       "OrderID             0\n",
       "ProductID           0\n",
       "Quantity            0\n",
       "CategoryID       5352\n",
       "CategoryCode     9933\n",
       "BrandID          4785\n",
       "USDPrice         5352\n",
       "UserID           5352\n",
       "Gender          48168\n",
       "Color            7660\n",
       "Metal            5462\n",
       "Gem             34058\n",
       "dtype: int64"
      ]
     },
     "execution_count": 4,
     "metadata": {},
     "output_type": "execute_result"
    }
   ],
   "source": [
    "df.isna().sum()"
   ]
  },
  {
   "cell_type": "code",
   "execution_count": 5,
   "id": "e2ae5eaa-375e-4051-8c82-a21de95b8832",
   "metadata": {},
   "outputs": [
    {
     "name": "stdout",
     "output_type": "stream",
     "text": [
      "<class 'pandas.core.frame.DataFrame'>\n",
      "RangeIndex: 95911 entries, 0 to 95910\n",
      "Data columns (total 13 columns):\n",
      " #   Column        Non-Null Count  Dtype  \n",
      "---  ------        --------------  -----  \n",
      " 0   Datetime      95911 non-null  object \n",
      " 1   OrderID       95911 non-null  int64  \n",
      " 2   ProductID     95911 non-null  int64  \n",
      " 3   Quantity      95911 non-null  int64  \n",
      " 4   CategoryID    90559 non-null  float64\n",
      " 5   CategoryCode  85978 non-null  object \n",
      " 6   BrandID       91126 non-null  float64\n",
      " 7   USDPrice      90559 non-null  float64\n",
      " 8   UserID        90559 non-null  float64\n",
      " 9   Gender        95911 non-null  object \n",
      " 10  Color         88251 non-null  object \n",
      " 11  Metal         90449 non-null  object \n",
      " 12  Gem           61853 non-null  object \n",
      "dtypes: float64(4), int64(3), object(6)\n",
      "memory usage: 9.5+ MB\n"
     ]
    }
   ],
   "source": [
    "df.Gender.fillna('f', inplace=True)\n",
    "df.info()"
   ]
  },
  {
   "cell_type": "code",
   "execution_count": 6,
   "id": "ee4cf53c-cf56-45cd-8daf-4223f93114c6",
   "metadata": {},
   "outputs": [
    {
     "data": {
      "text/plain": [
       "array([1])"
      ]
     },
     "execution_count": 6,
     "metadata": {},
     "output_type": "execute_result"
    }
   ],
   "source": [
    "df.Quantity.unique()"
   ]
  },
  {
   "cell_type": "code",
   "execution_count": 7,
   "id": "7fd6e843-11c9-43f1-bb09-650c4d5b53af",
   "metadata": {},
   "outputs": [
    {
     "name": "stdout",
     "output_type": "stream",
     "text": [
      "<class 'pandas.core.frame.DataFrame'>\n",
      "RangeIndex: 95911 entries, 0 to 95910\n",
      "Data columns (total 12 columns):\n",
      " #   Column        Non-Null Count  Dtype  \n",
      "---  ------        --------------  -----  \n",
      " 0   Datetime      95911 non-null  object \n",
      " 1   OrderID       95911 non-null  int64  \n",
      " 2   ProductID     95911 non-null  int64  \n",
      " 3   CategoryID    90559 non-null  float64\n",
      " 4   CategoryCode  85978 non-null  object \n",
      " 5   BrandID       91126 non-null  float64\n",
      " 6   USDPrice      90559 non-null  float64\n",
      " 7   UserID        90559 non-null  float64\n",
      " 8   Gender        95911 non-null  object \n",
      " 9   Color         88251 non-null  object \n",
      " 10  Metal         90449 non-null  object \n",
      " 11  Gem           61853 non-null  object \n",
      "dtypes: float64(4), int64(2), object(6)\n",
      "memory usage: 8.8+ MB\n"
     ]
    }
   ],
   "source": [
    "df.drop('Quantity',axis=1, inplace=True)\n",
    "df.info()\n"
   ]
  },
  {
   "cell_type": "code",
   "execution_count": 8,
   "id": "44aa5eed-2529-4f9d-b92e-fea6df18d32d",
   "metadata": {},
   "outputs": [
    {
     "data": {
      "text/plain": [
       "np.int64(5352)"
      ]
     },
     "execution_count": 8,
     "metadata": {},
     "output_type": "execute_result"
    }
   ],
   "source": [
    "df.USDPrice.isna().sum()"
   ]
  },
  {
   "cell_type": "code",
   "execution_count": 9,
   "id": "63e1bbc1-a55d-4867-8602-53fc43b6b544",
   "metadata": {},
   "outputs": [
    {
     "name": "stdout",
     "output_type": "stream",
     "text": [
      "[nan]\n",
      "[nan]\n",
      "[1.55061295e+18 1.32515621e+18 1.51591563e+18 ... 1.51591563e+18\n",
      " 1.51591563e+18 1.51591563e+18]\n"
     ]
    }
   ],
   "source": [
    "print(df[df['USDPrice'].isna()].Gem.unique())\n",
    "print(df[df['USDPrice'].isna()].Metal.unique())\n",
    "print(df[df['USDPrice'].isna()].BrandID.unique())"
   ]
  },
  {
   "cell_type": "code",
   "execution_count": 10,
   "id": "6b5f9b68-3eda-4053-be43-fcab7360c0d0",
   "metadata": {},
   "outputs": [
    {
     "data": {
      "text/plain": [
       "BrandID\n",
       "1.515916e+18    147\n",
       "1.515916e+18    104\n",
       "1.515916e+18     74\n",
       "1.515916e+18     37\n",
       "1.515916e+18     34\n",
       "               ... \n",
       "1.515916e+18      1\n",
       "1.515916e+18      1\n",
       "1.515916e+18      1\n",
       "1.515916e+18      1\n",
       "1.515916e+18      1\n",
       "Name: count, Length: 2530, dtype: int64"
      ]
     },
     "execution_count": 10,
     "metadata": {},
     "output_type": "execute_result"
    }
   ],
   "source": [
    "df[df['USDPrice'].isna()].BrandID.value_counts()"
   ]
  },
  {
   "cell_type": "code",
   "execution_count": 11,
   "id": "223023fe-6f6c-4ab4-bebe-229448d302e4",
   "metadata": {},
   "outputs": [
    {
     "data": {
      "text/html": [
       "<div>\n",
       "<style scoped>\n",
       "    .dataframe tbody tr th:only-of-type {\n",
       "        vertical-align: middle;\n",
       "    }\n",
       "\n",
       "    .dataframe tbody tr th {\n",
       "        vertical-align: top;\n",
       "    }\n",
       "\n",
       "    .dataframe thead th {\n",
       "        text-align: right;\n",
       "    }\n",
       "</style>\n",
       "<table border=\"1\" class=\"dataframe\">\n",
       "  <thead>\n",
       "    <tr style=\"text-align: right;\">\n",
       "      <th></th>\n",
       "      <th>OrderID</th>\n",
       "      <th>ProductID</th>\n",
       "      <th>CategoryID</th>\n",
       "      <th>BrandID</th>\n",
       "      <th>USDPrice</th>\n",
       "      <th>UserID</th>\n",
       "    </tr>\n",
       "  </thead>\n",
       "  <tbody>\n",
       "    <tr>\n",
       "      <th>count</th>\n",
       "      <td>3.400000e+01</td>\n",
       "      <td>3.400000e+01</td>\n",
       "      <td>0.0</td>\n",
       "      <td>3.400000e+01</td>\n",
       "      <td>0.0</td>\n",
       "      <td>0.0</td>\n",
       "    </tr>\n",
       "    <tr>\n",
       "      <th>mean</th>\n",
       "      <td>2.638980e+18</td>\n",
       "      <td>1.511337e+18</td>\n",
       "      <td>NaN</td>\n",
       "      <td>1.515916e+18</td>\n",
       "      <td>NaN</td>\n",
       "      <td>NaN</td>\n",
       "    </tr>\n",
       "    <tr>\n",
       "      <th>std</th>\n",
       "      <td>3.443835e+16</td>\n",
       "      <td>2.699059e+16</td>\n",
       "      <td>NaN</td>\n",
       "      <td>2.598498e+02</td>\n",
       "      <td>NaN</td>\n",
       "      <td>NaN</td>\n",
       "    </tr>\n",
       "    <tr>\n",
       "      <th>min</th>\n",
       "      <td>2.532276e+18</td>\n",
       "      <td>1.358585e+18</td>\n",
       "      <td>NaN</td>\n",
       "      <td>1.515916e+18</td>\n",
       "      <td>NaN</td>\n",
       "      <td>NaN</td>\n",
       "    </tr>\n",
       "    <tr>\n",
       "      <th>25%</th>\n",
       "      <td>2.625246e+18</td>\n",
       "      <td>1.515966e+18</td>\n",
       "      <td>NaN</td>\n",
       "      <td>1.515916e+18</td>\n",
       "      <td>NaN</td>\n",
       "      <td>NaN</td>\n",
       "    </tr>\n",
       "    <tr>\n",
       "      <th>50%</th>\n",
       "      <td>2.657495e+18</td>\n",
       "      <td>1.515966e+18</td>\n",
       "      <td>NaN</td>\n",
       "      <td>1.515916e+18</td>\n",
       "      <td>NaN</td>\n",
       "      <td>NaN</td>\n",
       "    </tr>\n",
       "    <tr>\n",
       "      <th>75%</th>\n",
       "      <td>2.661770e+18</td>\n",
       "      <td>1.515966e+18</td>\n",
       "      <td>NaN</td>\n",
       "      <td>1.515916e+18</td>\n",
       "      <td>NaN</td>\n",
       "      <td>NaN</td>\n",
       "    </tr>\n",
       "    <tr>\n",
       "      <th>max</th>\n",
       "      <td>2.676981e+18</td>\n",
       "      <td>1.515966e+18</td>\n",
       "      <td>NaN</td>\n",
       "      <td>1.515916e+18</td>\n",
       "      <td>NaN</td>\n",
       "      <td>NaN</td>\n",
       "    </tr>\n",
       "  </tbody>\n",
       "</table>\n",
       "</div>"
      ],
      "text/plain": [
       "            OrderID     ProductID  CategoryID       BrandID  USDPrice  UserID\n",
       "count  3.400000e+01  3.400000e+01         0.0  3.400000e+01       0.0     0.0\n",
       "mean   2.638980e+18  1.511337e+18         NaN  1.515916e+18       NaN     NaN\n",
       "std    3.443835e+16  2.699059e+16         NaN  2.598498e+02       NaN     NaN\n",
       "min    2.532276e+18  1.358585e+18         NaN  1.515916e+18       NaN     NaN\n",
       "25%    2.625246e+18  1.515966e+18         NaN  1.515916e+18       NaN     NaN\n",
       "50%    2.657495e+18  1.515966e+18         NaN  1.515916e+18       NaN     NaN\n",
       "75%    2.661770e+18  1.515966e+18         NaN  1.515916e+18       NaN     NaN\n",
       "max    2.676981e+18  1.515966e+18         NaN  1.515916e+18       NaN     NaN"
      ]
     },
     "execution_count": 11,
     "metadata": {},
     "output_type": "execute_result"
    }
   ],
   "source": [
    "df[df['BrandID']==1515915625368881664.000000].describe()"
   ]
  },
  {
   "cell_type": "code",
   "execution_count": 12,
   "id": "47a047a1-3229-4b7a-a83f-968af8d47a78",
   "metadata": {},
   "outputs": [],
   "source": [
    "new_df = df[df['USDPrice'].notna() & df['UserID'].notna()]"
   ]
  },
  {
   "cell_type": "code",
   "execution_count": 13,
   "id": "e6d3e78c-7a12-4014-a6b6-f48e3f529ad3",
   "metadata": {},
   "outputs": [
    {
     "name": "stdout",
     "output_type": "stream",
     "text": [
      "<class 'pandas.core.frame.DataFrame'>\n",
      "Index: 90559 entries, 0 to 95910\n",
      "Data columns (total 12 columns):\n",
      " #   Column        Non-Null Count  Dtype  \n",
      "---  ------        --------------  -----  \n",
      " 0   Datetime      90559 non-null  object \n",
      " 1   OrderID       90559 non-null  int64  \n",
      " 2   ProductID     90559 non-null  int64  \n",
      " 3   CategoryID    90559 non-null  float64\n",
      " 4   CategoryCode  80626 non-null  object \n",
      " 5   BrandID       85774 non-null  float64\n",
      " 6   USDPrice      90559 non-null  float64\n",
      " 7   UserID        90559 non-null  float64\n",
      " 8   Gender        90559 non-null  object \n",
      " 9   Color         88251 non-null  object \n",
      " 10  Metal         90449 non-null  object \n",
      " 11  Gem           61853 non-null  object \n",
      "dtypes: float64(4), int64(2), object(6)\n",
      "memory usage: 9.0+ MB\n"
     ]
    }
   ],
   "source": [
    "new_df.info()"
   ]
  },
  {
   "cell_type": "code",
   "execution_count": 14,
   "id": "01c171d1-8657-4804-bde5-4823f89f6aee",
   "metadata": {},
   "outputs": [],
   "source": [
    "new_df.CategoryCode.fillna('other', inplace=True)"
   ]
  },
  {
   "cell_type": "code",
   "execution_count": 15,
   "id": "40753840-9a90-4eaa-a520-f8ebd8ffff46",
   "metadata": {},
   "outputs": [
    {
     "data": {
      "text/plain": [
       "CategoryCode\n",
       "jewelry.earring       29052\n",
       "jewelry.ring          28300\n",
       "jewelry.pendant       13088\n",
       "other                  9933\n",
       "jewelry.bracelet       6188\n",
       "jewelry.necklace       2361\n",
       "jewelry.brooch         1288\n",
       "jewelry.souvenir        170\n",
       "electronics.clocks      167\n",
       "jewelry.stud             12\n",
       "Name: count, dtype: int64"
      ]
     },
     "execution_count": 15,
     "metadata": {},
     "output_type": "execute_result"
    }
   ],
   "source": [
    "new_df.CategoryCode.value_counts()"
   ]
  },
  {
   "cell_type": "code",
   "execution_count": 16,
   "id": "16fd19ae-748b-4241-84ef-01705762ac28",
   "metadata": {},
   "outputs": [],
   "source": [
    "new_df['BrandID'].fillna('-1',inplace=True)"
   ]
  },
  {
   "cell_type": "code",
   "execution_count": 17,
   "id": "886b37ea-2b40-4fcb-93f6-d745498292d9",
   "metadata": {},
   "outputs": [
    {
     "name": "stdout",
     "output_type": "stream",
     "text": [
      "<class 'pandas.core.frame.DataFrame'>\n",
      "Index: 90559 entries, 0 to 95910\n",
      "Data columns (total 12 columns):\n",
      " #   Column        Non-Null Count  Dtype  \n",
      "---  ------        --------------  -----  \n",
      " 0   Datetime      90559 non-null  object \n",
      " 1   OrderID       90559 non-null  int64  \n",
      " 2   ProductID     90559 non-null  int64  \n",
      " 3   CategoryID    90559 non-null  float64\n",
      " 4   CategoryCode  90559 non-null  object \n",
      " 5   BrandID       90559 non-null  object \n",
      " 6   USDPrice      90559 non-null  float64\n",
      " 7   UserID        90559 non-null  float64\n",
      " 8   Gender        90559 non-null  object \n",
      " 9   Color         88251 non-null  object \n",
      " 10  Metal         90449 non-null  object \n",
      " 11  Gem           61853 non-null  object \n",
      "dtypes: float64(3), int64(2), object(7)\n",
      "memory usage: 9.0+ MB\n"
     ]
    }
   ],
   "source": [
    "new_df.info()"
   ]
  },
  {
   "cell_type": "code",
   "execution_count": 18,
   "id": "0898a89f-3cf3-465d-9271-f774a036e0c3",
   "metadata": {},
   "outputs": [
    {
     "data": {
      "text/plain": [
       "array(['diamond', nan, 'sapphire', 'amethyst', 'fianit', 'pearl',\n",
       "       'quartz', 'topaz', 'garnet', 'quartz_smoky', 'ruby', 'agate',\n",
       "       'mix', 'citrine', 'emerald', 'amber', 'chrysolite', 'chrysoprase',\n",
       "       'nanocrystal', 'turquoise', 'sitall', 'corundum_synthetic',\n",
       "       'coral', 'onyx', 'nacre', 'spinel', 'tourmaline',\n",
       "       'emerald_geothermal', 'garnet_synthetic', 'rhodolite',\n",
       "       'sapphire_geothermal'], dtype=object)"
      ]
     },
     "execution_count": 18,
     "metadata": {},
     "output_type": "execute_result"
    }
   ],
   "source": [
    "new_df['Gem'].unique()"
   ]
  },
  {
   "cell_type": "code",
   "execution_count": 19,
   "id": "7f76d566-718d-4760-9cb6-c30539f8f4c4",
   "metadata": {},
   "outputs": [],
   "source": [
    "for i in ('Color','Metal','Gem'):\n",
    "  if i == 'Color':\n",
    "    new_df[i].fillna('unknown-color',inplace=True)\n",
    "  else:\n",
    "    new_df[i].fillna('unknown',inplace=True)"
   ]
  },
  {
   "cell_type": "code",
   "execution_count": 20,
   "id": "c9428990-8e93-403f-8a77-6e3c06b98225",
   "metadata": {},
   "outputs": [
    {
     "name": "stdout",
     "output_type": "stream",
     "text": [
      "<class 'pandas.core.frame.DataFrame'>\n",
      "Index: 90559 entries, 0 to 95910\n",
      "Data columns (total 12 columns):\n",
      " #   Column        Non-Null Count  Dtype  \n",
      "---  ------        --------------  -----  \n",
      " 0   Datetime      90559 non-null  object \n",
      " 1   OrderID       90559 non-null  int64  \n",
      " 2   ProductID     90559 non-null  int64  \n",
      " 3   CategoryID    90559 non-null  float64\n",
      " 4   CategoryCode  90559 non-null  object \n",
      " 5   BrandID       90559 non-null  object \n",
      " 6   USDPrice      90559 non-null  float64\n",
      " 7   UserID        90559 non-null  float64\n",
      " 8   Gender        90559 non-null  object \n",
      " 9   Color         90559 non-null  object \n",
      " 10  Metal         90559 non-null  object \n",
      " 11  Gem           90559 non-null  object \n",
      "dtypes: float64(3), int64(2), object(7)\n",
      "memory usage: 9.0+ MB\n"
     ]
    }
   ],
   "source": [
    "new_df.info()"
   ]
  },
  {
   "cell_type": "code",
   "execution_count": 21,
   "id": "05388fad-5982-4977-bb12-196f27e0a31a",
   "metadata": {},
   "outputs": [
    {
     "data": {
      "text/html": [
       "<div>\n",
       "<style scoped>\n",
       "    .dataframe tbody tr th:only-of-type {\n",
       "        vertical-align: middle;\n",
       "    }\n",
       "\n",
       "    .dataframe tbody tr th {\n",
       "        vertical-align: top;\n",
       "    }\n",
       "\n",
       "    .dataframe thead th {\n",
       "        text-align: right;\n",
       "    }\n",
       "</style>\n",
       "<table border=\"1\" class=\"dataframe\">\n",
       "  <thead>\n",
       "    <tr style=\"text-align: right;\">\n",
       "      <th></th>\n",
       "      <th>Datetime</th>\n",
       "      <th>OrderID</th>\n",
       "      <th>ProductID</th>\n",
       "      <th>CategoryID</th>\n",
       "      <th>CategoryCode</th>\n",
       "      <th>BrandID</th>\n",
       "      <th>USDPrice</th>\n",
       "      <th>UserID</th>\n",
       "      <th>Gender</th>\n",
       "      <th>Color</th>\n",
       "      <th>Metal</th>\n",
       "      <th>Gem</th>\n",
       "    </tr>\n",
       "  </thead>\n",
       "  <tbody>\n",
       "    <tr>\n",
       "      <th>0</th>\n",
       "      <td>2018-12-01</td>\n",
       "      <td>1924719191579951782</td>\n",
       "      <td>1842195256808833386</td>\n",
       "      <td>1.806829e+18</td>\n",
       "      <td>jewelry.earring</td>\n",
       "      <td>0.0</td>\n",
       "      <td>561.51</td>\n",
       "      <td>1.515916e+18</td>\n",
       "      <td>f</td>\n",
       "      <td>red</td>\n",
       "      <td>gold</td>\n",
       "      <td>diamond</td>\n",
       "    </tr>\n",
       "    <tr>\n",
       "      <th>1</th>\n",
       "      <td>2018-12-01</td>\n",
       "      <td>1924899396621697920</td>\n",
       "      <td>1806829193678291446</td>\n",
       "      <td>1.806829e+18</td>\n",
       "      <td>other</td>\n",
       "      <td>-1</td>\n",
       "      <td>212.14</td>\n",
       "      <td>1.515916e+18</td>\n",
       "      <td>f</td>\n",
       "      <td>yellow</td>\n",
       "      <td>gold</td>\n",
       "      <td>unknown</td>\n",
       "    </tr>\n",
       "    <tr>\n",
       "      <th>2</th>\n",
       "      <td>2018-12-02</td>\n",
       "      <td>1925511016616034733</td>\n",
       "      <td>1842214461889315556</td>\n",
       "      <td>1.806829e+18</td>\n",
       "      <td>jewelry.pendant</td>\n",
       "      <td>1.0</td>\n",
       "      <td>54.66</td>\n",
       "      <td>1.515916e+18</td>\n",
       "      <td>f</td>\n",
       "      <td>white</td>\n",
       "      <td>gold</td>\n",
       "      <td>sapphire</td>\n",
       "    </tr>\n",
       "    <tr>\n",
       "      <th>3</th>\n",
       "      <td>2018-12-02</td>\n",
       "      <td>1925626951238681511</td>\n",
       "      <td>1835566849434059453</td>\n",
       "      <td>1.806829e+18</td>\n",
       "      <td>jewelry.pendant</td>\n",
       "      <td>0.0</td>\n",
       "      <td>88.90</td>\n",
       "      <td>1.515916e+18</td>\n",
       "      <td>f</td>\n",
       "      <td>red</td>\n",
       "      <td>gold</td>\n",
       "      <td>diamond</td>\n",
       "    </tr>\n",
       "    <tr>\n",
       "      <th>4</th>\n",
       "      <td>2018-12-02</td>\n",
       "      <td>1925740842841014667</td>\n",
       "      <td>1873936840742928865</td>\n",
       "      <td>1.806829e+18</td>\n",
       "      <td>jewelry.necklace</td>\n",
       "      <td>0.0</td>\n",
       "      <td>417.67</td>\n",
       "      <td>1.515916e+18</td>\n",
       "      <td>f</td>\n",
       "      <td>red</td>\n",
       "      <td>gold</td>\n",
       "      <td>amethyst</td>\n",
       "    </tr>\n",
       "  </tbody>\n",
       "</table>\n",
       "</div>"
      ],
      "text/plain": [
       "     Datetime              OrderID            ProductID    CategoryID  \\\n",
       "0  2018-12-01  1924719191579951782  1842195256808833386  1.806829e+18   \n",
       "1  2018-12-01  1924899396621697920  1806829193678291446  1.806829e+18   \n",
       "2  2018-12-02  1925511016616034733  1842214461889315556  1.806829e+18   \n",
       "3  2018-12-02  1925626951238681511  1835566849434059453  1.806829e+18   \n",
       "4  2018-12-02  1925740842841014667  1873936840742928865  1.806829e+18   \n",
       "\n",
       "       CategoryCode BrandID  USDPrice        UserID Gender   Color Metal  \\\n",
       "0   jewelry.earring     0.0    561.51  1.515916e+18      f     red  gold   \n",
       "1             other      -1    212.14  1.515916e+18      f  yellow  gold   \n",
       "2   jewelry.pendant     1.0     54.66  1.515916e+18      f   white  gold   \n",
       "3   jewelry.pendant     0.0     88.90  1.515916e+18      f     red  gold   \n",
       "4  jewelry.necklace     0.0    417.67  1.515916e+18      f     red  gold   \n",
       "\n",
       "        Gem  \n",
       "0   diamond  \n",
       "1   unknown  \n",
       "2  sapphire  \n",
       "3   diamond  \n",
       "4  amethyst  "
      ]
     },
     "execution_count": 21,
     "metadata": {},
     "output_type": "execute_result"
    }
   ],
   "source": [
    "new_df['Datetime'] = new_df.Datetime.apply(lambda x : x[:10])\n",
    "new_df.head()"
   ]
  },
  {
   "cell_type": "code",
   "execution_count": 22,
   "id": "768e23e6-802e-403f-ac50-52b79ef89235",
   "metadata": {},
   "outputs": [
    {
     "name": "stdout",
     "output_type": "stream",
     "text": [
      "<class 'pandas.core.frame.DataFrame'>\n",
      "Index: 90559 entries, 0 to 95910\n",
      "Data columns (total 12 columns):\n",
      " #   Column        Non-Null Count  Dtype         \n",
      "---  ------        --------------  -----         \n",
      " 0   Datetime      90559 non-null  datetime64[ns]\n",
      " 1   OrderID       90559 non-null  int64         \n",
      " 2   ProductID     90559 non-null  int64         \n",
      " 3   CategoryID    90559 non-null  float64       \n",
      " 4   CategoryCode  90559 non-null  object        \n",
      " 5   BrandID       90559 non-null  object        \n",
      " 6   USDPrice      90559 non-null  float64       \n",
      " 7   UserID        90559 non-null  float64       \n",
      " 8   Gender        90559 non-null  object        \n",
      " 9   Color         90559 non-null  object        \n",
      " 10  Metal         90559 non-null  object        \n",
      " 11  Gem           90559 non-null  object        \n",
      "dtypes: datetime64[ns](1), float64(3), int64(2), object(6)\n",
      "memory usage: 9.0+ MB\n"
     ]
    }
   ],
   "source": [
    "from datetime import datetime\n",
    "\n",
    "new_df['Datetime'] = new_df['Datetime'].apply(lambda x: datetime.strptime(x, '%Y-%m-%d'))\n",
    "new_df.info()"
   ]
  },
  {
   "cell_type": "code",
   "execution_count": 23,
   "id": "20f3e7b7-3673-4f9c-8e7e-a9f4f2576559",
   "metadata": {},
   "outputs": [
    {
     "data": {
      "text/html": [
       "<div>\n",
       "<style scoped>\n",
       "    .dataframe tbody tr th:only-of-type {\n",
       "        vertical-align: middle;\n",
       "    }\n",
       "\n",
       "    .dataframe tbody tr th {\n",
       "        vertical-align: top;\n",
       "    }\n",
       "\n",
       "    .dataframe thead th {\n",
       "        text-align: right;\n",
       "    }\n",
       "</style>\n",
       "<table border=\"1\" class=\"dataframe\">\n",
       "  <thead>\n",
       "    <tr style=\"text-align: right;\">\n",
       "      <th></th>\n",
       "      <th>Datetime</th>\n",
       "      <th>OrderID</th>\n",
       "      <th>ProductID</th>\n",
       "      <th>CategoryID</th>\n",
       "      <th>CategoryCode</th>\n",
       "      <th>BrandID</th>\n",
       "      <th>USDPrice</th>\n",
       "      <th>UserID</th>\n",
       "      <th>Gender</th>\n",
       "      <th>Color</th>\n",
       "      <th>Metal</th>\n",
       "      <th>Gem</th>\n",
       "    </tr>\n",
       "  </thead>\n",
       "  <tbody>\n",
       "    <tr>\n",
       "      <th>0</th>\n",
       "      <td>2018-12-01</td>\n",
       "      <td>1924719191579951782</td>\n",
       "      <td>1842195256808833386</td>\n",
       "      <td>1.806829e+18</td>\n",
       "      <td>jewelry.earring</td>\n",
       "      <td>0.0</td>\n",
       "      <td>561.51</td>\n",
       "      <td>1.515916e+18</td>\n",
       "      <td>f</td>\n",
       "      <td>red</td>\n",
       "      <td>gold</td>\n",
       "      <td>diamond</td>\n",
       "    </tr>\n",
       "    <tr>\n",
       "      <th>1</th>\n",
       "      <td>2018-12-01</td>\n",
       "      <td>1924899396621697920</td>\n",
       "      <td>1806829193678291446</td>\n",
       "      <td>1.806829e+18</td>\n",
       "      <td>other</td>\n",
       "      <td>-1</td>\n",
       "      <td>212.14</td>\n",
       "      <td>1.515916e+18</td>\n",
       "      <td>f</td>\n",
       "      <td>yellow</td>\n",
       "      <td>gold</td>\n",
       "      <td>unknown</td>\n",
       "    </tr>\n",
       "    <tr>\n",
       "      <th>2</th>\n",
       "      <td>2018-12-02</td>\n",
       "      <td>1925511016616034733</td>\n",
       "      <td>1842214461889315556</td>\n",
       "      <td>1.806829e+18</td>\n",
       "      <td>jewelry.pendant</td>\n",
       "      <td>1.0</td>\n",
       "      <td>54.66</td>\n",
       "      <td>1.515916e+18</td>\n",
       "      <td>f</td>\n",
       "      <td>white</td>\n",
       "      <td>gold</td>\n",
       "      <td>sapphire</td>\n",
       "    </tr>\n",
       "    <tr>\n",
       "      <th>3</th>\n",
       "      <td>2018-12-02</td>\n",
       "      <td>1925626951238681511</td>\n",
       "      <td>1835566849434059453</td>\n",
       "      <td>1.806829e+18</td>\n",
       "      <td>jewelry.pendant</td>\n",
       "      <td>0.0</td>\n",
       "      <td>88.90</td>\n",
       "      <td>1.515916e+18</td>\n",
       "      <td>f</td>\n",
       "      <td>red</td>\n",
       "      <td>gold</td>\n",
       "      <td>diamond</td>\n",
       "    </tr>\n",
       "    <tr>\n",
       "      <th>4</th>\n",
       "      <td>2018-12-02</td>\n",
       "      <td>1925740842841014667</td>\n",
       "      <td>1873936840742928865</td>\n",
       "      <td>1.806829e+18</td>\n",
       "      <td>jewelry.necklace</td>\n",
       "      <td>0.0</td>\n",
       "      <td>417.67</td>\n",
       "      <td>1.515916e+18</td>\n",
       "      <td>f</td>\n",
       "      <td>red</td>\n",
       "      <td>gold</td>\n",
       "      <td>amethyst</td>\n",
       "    </tr>\n",
       "  </tbody>\n",
       "</table>\n",
       "</div>"
      ],
      "text/plain": [
       "    Datetime              OrderID            ProductID    CategoryID  \\\n",
       "0 2018-12-01  1924719191579951782  1842195256808833386  1.806829e+18   \n",
       "1 2018-12-01  1924899396621697920  1806829193678291446  1.806829e+18   \n",
       "2 2018-12-02  1925511016616034733  1842214461889315556  1.806829e+18   \n",
       "3 2018-12-02  1925626951238681511  1835566849434059453  1.806829e+18   \n",
       "4 2018-12-02  1925740842841014667  1873936840742928865  1.806829e+18   \n",
       "\n",
       "       CategoryCode BrandID  USDPrice        UserID Gender   Color Metal  \\\n",
       "0   jewelry.earring     0.0    561.51  1.515916e+18      f     red  gold   \n",
       "1             other      -1    212.14  1.515916e+18      f  yellow  gold   \n",
       "2   jewelry.pendant     1.0     54.66  1.515916e+18      f   white  gold   \n",
       "3   jewelry.pendant     0.0     88.90  1.515916e+18      f     red  gold   \n",
       "4  jewelry.necklace     0.0    417.67  1.515916e+18      f     red  gold   \n",
       "\n",
       "        Gem  \n",
       "0   diamond  \n",
       "1   unknown  \n",
       "2  sapphire  \n",
       "3   diamond  \n",
       "4  amethyst  "
      ]
     },
     "execution_count": 23,
     "metadata": {},
     "output_type": "execute_result"
    }
   ],
   "source": [
    "new_df.head()"
   ]
  },
  {
   "cell_type": "code",
   "execution_count": 24,
   "id": "6c63d5f1-bf67-4112-a2d2-5ad6100e01e4",
   "metadata": {},
   "outputs": [
    {
     "data": {
      "text/html": [
       "<div>\n",
       "<style scoped>\n",
       "    .dataframe tbody tr th:only-of-type {\n",
       "        vertical-align: middle;\n",
       "    }\n",
       "\n",
       "    .dataframe tbody tr th {\n",
       "        vertical-align: top;\n",
       "    }\n",
       "\n",
       "    .dataframe thead th {\n",
       "        text-align: right;\n",
       "    }\n",
       "</style>\n",
       "<table border=\"1\" class=\"dataframe\">\n",
       "  <thead>\n",
       "    <tr style=\"text-align: right;\">\n",
       "      <th></th>\n",
       "      <th>Datetime</th>\n",
       "      <th>USDPrice</th>\n",
       "    </tr>\n",
       "  </thead>\n",
       "  <tbody>\n",
       "    <tr>\n",
       "      <th>0</th>\n",
       "      <td>2018-12-01</td>\n",
       "      <td>773.65</td>\n",
       "    </tr>\n",
       "    <tr>\n",
       "      <th>1</th>\n",
       "      <td>2018-12-02</td>\n",
       "      <td>897.47</td>\n",
       "    </tr>\n",
       "    <tr>\n",
       "      <th>2</th>\n",
       "      <td>2018-12-03</td>\n",
       "      <td>978.85</td>\n",
       "    </tr>\n",
       "    <tr>\n",
       "      <th>3</th>\n",
       "      <td>2018-12-04</td>\n",
       "      <td>3486.05</td>\n",
       "    </tr>\n",
       "    <tr>\n",
       "      <th>4</th>\n",
       "      <td>2018-12-05</td>\n",
       "      <td>1246.58</td>\n",
       "    </tr>\n",
       "  </tbody>\n",
       "</table>\n",
       "</div>"
      ],
      "text/plain": [
       "    Datetime  USDPrice\n",
       "0 2018-12-01    773.65\n",
       "1 2018-12-02    897.47\n",
       "2 2018-12-03    978.85\n",
       "3 2018-12-04   3486.05\n",
       "4 2018-12-05   1246.58"
      ]
     },
     "execution_count": 24,
     "metadata": {},
     "output_type": "execute_result"
    }
   ],
   "source": [
    "sales_df =  pd.pivot_table(new_df, \n",
    "                 index= 'Datetime' ,\n",
    "                 values= 'USDPrice'  ,\n",
    "                 aggfunc= 'sum' ).reset_index()\n",
    "\n",
    "sales_df.head()"
   ]
  },
  {
   "cell_type": "code",
   "execution_count": null,
   "id": "b19dfa04-ff6b-47ee-9f89-db8997de6340",
   "metadata": {},
   "outputs": [],
   "source": []
  }
 ],
 "metadata": {
  "kernelspec": {
   "display_name": "Python 3 (ipykernel)",
   "language": "python",
   "name": "python3"
  },
  "language_info": {
   "codemirror_mode": {
    "name": "ipython",
    "version": 3
   },
   "file_extension": ".py",
   "mimetype": "text/x-python",
   "name": "python",
   "nbconvert_exporter": "python",
   "pygments_lexer": "ipython3",
   "version": "3.12.4"
  }
 },
 "nbformat": 4,
 "nbformat_minor": 5
}
